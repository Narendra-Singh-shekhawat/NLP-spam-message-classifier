{
  "nbformat": 4,
  "nbformat_minor": 0,
  "metadata": {
    "colab": {
      "name": "nlp project spam messages",
      "provenance": [],
      "authorship_tag": "ABX9TyPZsnqBG/YlawIKT/OW21cF",
      "include_colab_link": true
    },
    "kernelspec": {
      "name": "python3",
      "display_name": "Python 3"
    }
  },
  "cells": [
    {
      "cell_type": "markdown",
      "metadata": {
        "id": "view-in-github",
        "colab_type": "text"
      },
      "source": [
        "<a href=\"https://colab.research.google.com/github/Narendra-Singh-shekhawat/NLP-spam-message-classifier/blob/master/nlp_project_spam_messages.ipynb\" target=\"_parent\"><img src=\"https://colab.research.google.com/assets/colab-badge.svg\" alt=\"Open In Colab\"/></a>"
      ]
    },
    {
      "cell_type": "code",
      "metadata": {
        "id": "_62j56DvKner",
        "colab_type": "code",
        "colab": {}
      },
      "source": [
        "import nltk\n",
        "import pandas as pd\n",
        "import numpy as np"
      ],
      "execution_count": null,
      "outputs": []
    },
    {
      "cell_type": "code",
      "metadata": {
        "id": "M90PCIKvNN6-",
        "colab_type": "code",
        "colab": {}
      },
      "source": [
        "from google.colab import drive"
      ],
      "execution_count": null,
      "outputs": []
    },
    {
      "cell_type": "code",
      "metadata": {
        "id": "suyL9D5FOAVU",
        "colab_type": "code",
        "colab": {
          "base_uri": "https://localhost:8080/",
          "height": 124
        },
        "outputId": "3f18b566-8999-4b4c-f346-5c1f0ac16ad6"
      },
      "source": [
        "drive.mount(\"/content/drive/\")"
      ],
      "execution_count": null,
      "outputs": [
        {
          "output_type": "stream",
          "text": [
            "Go to this URL in a browser: https://accounts.google.com/o/oauth2/auth?client_id=947318989803-6bn6qk8qdgf4n4g3pfee6491hc0brc4i.apps.googleusercontent.com&redirect_uri=urn%3aietf%3awg%3aoauth%3a2.0%3aoob&response_type=code&scope=email%20https%3a%2f%2fwww.googleapis.com%2fauth%2fdocs.test%20https%3a%2f%2fwww.googleapis.com%2fauth%2fdrive%20https%3a%2f%2fwww.googleapis.com%2fauth%2fdrive.photos.readonly%20https%3a%2f%2fwww.googleapis.com%2fauth%2fpeopleapi.readonly\n",
            "\n",
            "Enter your authorization code:\n",
            "··········\n",
            "Mounted at /content/drive/\n"
          ],
          "name": "stdout"
        }
      ]
    },
    {
      "cell_type": "code",
      "metadata": {
        "id": "NZ5o0HeBPiPX",
        "colab_type": "code",
        "colab": {}
      },
      "source": [
        "import re\n",
        "from nltk.corpus import stopwords\n",
        "from nltk.stem.porter import PorterStemmer\n",
        "from nltk.stem import WordNetLemmatizer\n"
      ],
      "execution_count": null,
      "outputs": []
    },
    {
      "cell_type": "code",
      "metadata": {
        "id": "wyTiAMj6ODc1",
        "colab_type": "code",
        "colab": {}
      },
      "source": [
        "df=pd.read_csv(\"/content/drive/My Drive/dataset/smsspamcollection/SMSSpamCollection\",sep=\"\\t\",names=[\"labels\",\"messages\"])"
      ],
      "execution_count": null,
      "outputs": []
    },
    {
      "cell_type": "code",
      "metadata": {
        "id": "hifSeuH0PAiz",
        "colab_type": "code",
        "colab": {
          "base_uri": "https://localhost:8080/",
          "height": 408
        },
        "outputId": "681d40e3-52ee-41b8-e9df-9d68017042bc"
      },
      "source": [
        "df"
      ],
      "execution_count": null,
      "outputs": [
        {
          "output_type": "execute_result",
          "data": {
            "text/html": [
              "<div>\n",
              "<style scoped>\n",
              "    .dataframe tbody tr th:only-of-type {\n",
              "        vertical-align: middle;\n",
              "    }\n",
              "\n",
              "    .dataframe tbody tr th {\n",
              "        vertical-align: top;\n",
              "    }\n",
              "\n",
              "    .dataframe thead th {\n",
              "        text-align: right;\n",
              "    }\n",
              "</style>\n",
              "<table border=\"1\" class=\"dataframe\">\n",
              "  <thead>\n",
              "    <tr style=\"text-align: right;\">\n",
              "      <th></th>\n",
              "      <th>labels</th>\n",
              "      <th>messages</th>\n",
              "    </tr>\n",
              "  </thead>\n",
              "  <tbody>\n",
              "    <tr>\n",
              "      <th>0</th>\n",
              "      <td>ham</td>\n",
              "      <td>Go until jurong point, crazy.. Available only ...</td>\n",
              "    </tr>\n",
              "    <tr>\n",
              "      <th>1</th>\n",
              "      <td>ham</td>\n",
              "      <td>Ok lar... Joking wif u oni...</td>\n",
              "    </tr>\n",
              "    <tr>\n",
              "      <th>2</th>\n",
              "      <td>spam</td>\n",
              "      <td>Free entry in 2 a wkly comp to win FA Cup fina...</td>\n",
              "    </tr>\n",
              "    <tr>\n",
              "      <th>3</th>\n",
              "      <td>ham</td>\n",
              "      <td>U dun say so early hor... U c already then say...</td>\n",
              "    </tr>\n",
              "    <tr>\n",
              "      <th>4</th>\n",
              "      <td>ham</td>\n",
              "      <td>Nah I don't think he goes to usf, he lives aro...</td>\n",
              "    </tr>\n",
              "    <tr>\n",
              "      <th>...</th>\n",
              "      <td>...</td>\n",
              "      <td>...</td>\n",
              "    </tr>\n",
              "    <tr>\n",
              "      <th>5567</th>\n",
              "      <td>spam</td>\n",
              "      <td>This is the 2nd time we have tried 2 contact u...</td>\n",
              "    </tr>\n",
              "    <tr>\n",
              "      <th>5568</th>\n",
              "      <td>ham</td>\n",
              "      <td>Will ü b going to esplanade fr home?</td>\n",
              "    </tr>\n",
              "    <tr>\n",
              "      <th>5569</th>\n",
              "      <td>ham</td>\n",
              "      <td>Pity, * was in mood for that. So...any other s...</td>\n",
              "    </tr>\n",
              "    <tr>\n",
              "      <th>5570</th>\n",
              "      <td>ham</td>\n",
              "      <td>The guy did some bitching but I acted like i'd...</td>\n",
              "    </tr>\n",
              "    <tr>\n",
              "      <th>5571</th>\n",
              "      <td>ham</td>\n",
              "      <td>Rofl. Its true to its name</td>\n",
              "    </tr>\n",
              "  </tbody>\n",
              "</table>\n",
              "<p>5572 rows × 2 columns</p>\n",
              "</div>"
            ],
            "text/plain": [
              "     labels                                           messages\n",
              "0       ham  Go until jurong point, crazy.. Available only ...\n",
              "1       ham                      Ok lar... Joking wif u oni...\n",
              "2      spam  Free entry in 2 a wkly comp to win FA Cup fina...\n",
              "3       ham  U dun say so early hor... U c already then say...\n",
              "4       ham  Nah I don't think he goes to usf, he lives aro...\n",
              "...     ...                                                ...\n",
              "5567   spam  This is the 2nd time we have tried 2 contact u...\n",
              "5568    ham               Will ü b going to esplanade fr home?\n",
              "5569    ham  Pity, * was in mood for that. So...any other s...\n",
              "5570    ham  The guy did some bitching but I acted like i'd...\n",
              "5571    ham                         Rofl. Its true to its name\n",
              "\n",
              "[5572 rows x 2 columns]"
            ]
          },
          "metadata": {
            "tags": []
          },
          "execution_count": 6
        }
      ]
    },
    {
      "cell_type": "code",
      "metadata": {
        "id": "QvKvlKTIPPz2",
        "colab_type": "code",
        "colab": {}
      },
      "source": [
        "ps=PorterStemmer()\n",
        "wordnet=WordNetLemmatizer()\n"
      ],
      "execution_count": null,
      "outputs": []
    },
    {
      "cell_type": "code",
      "metadata": {
        "id": "aB-XX9ZDRHRM",
        "colab_type": "code",
        "colab": {
          "base_uri": "https://localhost:8080/",
          "height": 34
        },
        "outputId": "03476034-7ceb-4ca7-b0c2-6bea05502a52"
      },
      "source": [
        "len(df[\"messages\"])"
      ],
      "execution_count": null,
      "outputs": [
        {
          "output_type": "execute_result",
          "data": {
            "text/plain": [
              "5572"
            ]
          },
          "metadata": {
            "tags": []
          },
          "execution_count": 8
        }
      ]
    },
    {
      "cell_type": "code",
      "metadata": {
        "id": "GiSxmm_YUzE1",
        "colab_type": "code",
        "colab": {
          "base_uri": "https://localhost:8080/",
          "height": 104
        },
        "outputId": "bb76acb3-f47d-48e2-db6e-a9c5c78f1143"
      },
      "source": [
        "nltk.download('stopwords')\n",
        "nltk.download('wordnet')"
      ],
      "execution_count": null,
      "outputs": [
        {
          "output_type": "stream",
          "text": [
            "[nltk_data] Downloading package stopwords to /root/nltk_data...\n",
            "[nltk_data]   Unzipping corpora/stopwords.zip.\n",
            "[nltk_data] Downloading package wordnet to /root/nltk_data...\n",
            "[nltk_data]   Unzipping corpora/wordnet.zip.\n"
          ],
          "name": "stdout"
        },
        {
          "output_type": "execute_result",
          "data": {
            "text/plain": [
              "True"
            ]
          },
          "metadata": {
            "tags": []
          },
          "execution_count": 9
        }
      ]
    },
    {
      "cell_type": "code",
      "metadata": {
        "id": "0AsWXjOlQ4SK",
        "colab_type": "code",
        "colab": {}
      },
      "source": [
        "corpus=[]\n",
        "for i in range(len(df[\"messages\"])):\n",
        "  message=re.sub(\"[^a-zA-Z]\",\" \",df[\"messages\"][i])\n",
        "  message=message.lower()\n",
        "  message=message.split()\n",
        "  message=[wordnet.lemmatize(word) for word in message if not word in set(stopwords.words(\"english\"))]\n",
        "  message=\" \".join(message)\n",
        "  corpus.append(message)"
      ],
      "execution_count": null,
      "outputs": []
    },
    {
      "cell_type": "code",
      "metadata": {
        "id": "LOUKFjOVSVtn",
        "colab_type": "code",
        "colab": {
          "base_uri": "https://localhost:8080/",
          "height": 190
        },
        "outputId": "173683e1-c925-4aa5-faea-cb106f01258d"
      },
      "source": [
        "corpus[0:10]"
      ],
      "execution_count": null,
      "outputs": [
        {
          "output_type": "execute_result",
          "data": {
            "text/plain": [
              "['go jurong point crazy available bugis n great world la e buffet cine got amore wat',\n",
              " 'ok lar joking wif u oni',\n",
              " 'free entry wkly comp win fa cup final tkts st may text fa receive entry question std txt rate c apply',\n",
              " 'u dun say early hor u c already say',\n",
              " 'nah think go usf life around though',\n",
              " 'freemsg hey darling week word back like fun still tb ok xxx std chgs send rcv',\n",
              " 'even brother like speak treat like aid patent',\n",
              " 'per request melle melle oru minnaminunginte nurungu vettam set callertune caller press copy friend callertune',\n",
              " 'winner valued network customer selected receivea prize reward claim call claim code kl valid hour',\n",
              " 'mobile month u r entitled update latest colour mobile camera free call mobile update co free']"
            ]
          },
          "metadata": {
            "tags": []
          },
          "execution_count": 12
        }
      ]
    },
    {
      "cell_type": "markdown",
      "metadata": {
        "id": "TeF4Ru_Zc_ek",
        "colab_type": "text"
      },
      "source": [
        "Creating with bag of words\n"
      ]
    },
    {
      "cell_type": "code",
      "metadata": {
        "id": "Zf4HxJKrdECL",
        "colab_type": "code",
        "colab": {}
      },
      "source": [
        "from sklearn.feature_extraction.text import CountVectorizer,TfidfVectorizer"
      ],
      "execution_count": null,
      "outputs": []
    },
    {
      "cell_type": "code",
      "metadata": {
        "id": "WpvP8vRudYln",
        "colab_type": "code",
        "colab": {
          "base_uri": "https://localhost:8080/",
          "height": 138
        },
        "outputId": "b9a57f6a-9afa-40a4-974c-986e8090c2e4"
      },
      "source": [
        "cv=CountVectorizer(max_features=5000)\n",
        "X=cv.fit_transform(corpus).toarray()\n",
        "print(X)\n"
      ],
      "execution_count": null,
      "outputs": [
        {
          "output_type": "stream",
          "text": [
            "[[0 0 0 ... 0 0 0]\n",
            " [0 0 0 ... 0 0 0]\n",
            " [0 0 0 ... 0 0 0]\n",
            " ...\n",
            " [0 0 0 ... 0 0 0]\n",
            " [0 0 0 ... 0 0 0]\n",
            " [0 0 0 ... 0 0 0]]\n"
          ],
          "name": "stdout"
        }
      ]
    },
    {
      "cell_type": "code",
      "metadata": {
        "id": "-tJ6aI9ed8ai",
        "colab_type": "code",
        "colab": {
          "base_uri": "https://localhost:8080/",
          "height": 34
        },
        "outputId": "19495ece-9ca0-4534-a664-d7db3ad7145f"
      },
      "source": [
        "X.shape"
      ],
      "execution_count": null,
      "outputs": [
        {
          "output_type": "execute_result",
          "data": {
            "text/plain": [
              "(5572, 5000)"
            ]
          },
          "metadata": {
            "tags": []
          },
          "execution_count": 17
        }
      ]
    },
    {
      "cell_type": "code",
      "metadata": {
        "id": "lEjwbmLveGUQ",
        "colab_type": "code",
        "colab": {
          "base_uri": "https://localhost:8080/",
          "height": 34
        },
        "outputId": "c486df19-7095-4390-d473-0a63ff5d9c22"
      },
      "source": [
        "X.ndim"
      ],
      "execution_count": null,
      "outputs": [
        {
          "output_type": "execute_result",
          "data": {
            "text/plain": [
              "2"
            ]
          },
          "metadata": {
            "tags": []
          },
          "execution_count": 18
        }
      ]
    },
    {
      "cell_type": "code",
      "metadata": {
        "id": "ypWnq10ieJiF",
        "colab_type": "code",
        "colab": {}
      },
      "source": [
        "y=pd.get_dummies(df[\"labels\"])"
      ],
      "execution_count": null,
      "outputs": []
    },
    {
      "cell_type": "code",
      "metadata": {
        "id": "YoOZ5j3Lem1J",
        "colab_type": "code",
        "colab": {
          "base_uri": "https://localhost:8080/",
          "height": 198
        },
        "outputId": "8af0d7b7-b37b-437c-9f28-5811bc75874a"
      },
      "source": [
        "y.head()"
      ],
      "execution_count": null,
      "outputs": [
        {
          "output_type": "execute_result",
          "data": {
            "text/html": [
              "<div>\n",
              "<style scoped>\n",
              "    .dataframe tbody tr th:only-of-type {\n",
              "        vertical-align: middle;\n",
              "    }\n",
              "\n",
              "    .dataframe tbody tr th {\n",
              "        vertical-align: top;\n",
              "    }\n",
              "\n",
              "    .dataframe thead th {\n",
              "        text-align: right;\n",
              "    }\n",
              "</style>\n",
              "<table border=\"1\" class=\"dataframe\">\n",
              "  <thead>\n",
              "    <tr style=\"text-align: right;\">\n",
              "      <th></th>\n",
              "      <th>ham</th>\n",
              "      <th>spam</th>\n",
              "    </tr>\n",
              "  </thead>\n",
              "  <tbody>\n",
              "    <tr>\n",
              "      <th>0</th>\n",
              "      <td>1</td>\n",
              "      <td>0</td>\n",
              "    </tr>\n",
              "    <tr>\n",
              "      <th>1</th>\n",
              "      <td>1</td>\n",
              "      <td>0</td>\n",
              "    </tr>\n",
              "    <tr>\n",
              "      <th>2</th>\n",
              "      <td>0</td>\n",
              "      <td>1</td>\n",
              "    </tr>\n",
              "    <tr>\n",
              "      <th>3</th>\n",
              "      <td>1</td>\n",
              "      <td>0</td>\n",
              "    </tr>\n",
              "    <tr>\n",
              "      <th>4</th>\n",
              "      <td>1</td>\n",
              "      <td>0</td>\n",
              "    </tr>\n",
              "  </tbody>\n",
              "</table>\n",
              "</div>"
            ],
            "text/plain": [
              "   ham  spam\n",
              "0    1     0\n",
              "1    1     0\n",
              "2    0     1\n",
              "3    1     0\n",
              "4    1     0"
            ]
          },
          "metadata": {
            "tags": []
          },
          "execution_count": 20
        }
      ]
    },
    {
      "cell_type": "code",
      "metadata": {
        "id": "d-J4ojrjeo-t",
        "colab_type": "code",
        "colab": {}
      },
      "source": [
        "y=y.iloc[:,1].values"
      ],
      "execution_count": null,
      "outputs": []
    },
    {
      "cell_type": "code",
      "metadata": {
        "id": "oZ1L_cpugV61",
        "colab_type": "code",
        "colab": {}
      },
      "source": [
        "from sklearn.model_selection import GridSearchCV\n",
        "from sklearn.neighbors import KNeighborsClassifier\n",
        "from sklearn.tree import DecisionTreeClassifier\n",
        "from sklearn.linear_model import LogisticRegression\n",
        "from sklearn.ensemble import RandomForestClassifier\n",
        "from sklearn.naive_bayes import MultinomialNB\n",
        "from sklearn import model_selection\n",
        "from sklearn.model_selection import KFold, cross_val_score\n",
        "import matplotlib.pyplot as plt\n",
        "from sklearn.ensemble import BaggingClassifier\n",
        "from sklearn.ensemble import AdaBoostClassifier"
      ],
      "execution_count": null,
      "outputs": []
    },
    {
      "cell_type": "code",
      "metadata": {
        "id": "POZm96thmYG3",
        "colab_type": "code",
        "colab": {}
      },
      "source": [
        "LR=LogisticRegression()\n",
        "NB=MultinomialNB()\n",
        "DT=DecisionTreeClassifier(criterion='gini',random_state=0,max_depth=6)\n",
        "RF=RandomForestClassifier(n_estimators=10,random_state=0)\n",
        "LR_bag=BaggingClassifier(base_estimator=LR,n_estimators=10,random_state=0)\n",
        "NB_bag=BaggingClassifier(base_estimator=NB,n_estimators=10,random_state=0)\n",
        "DT_bag=BaggingClassifier(n_estimators=10,random_state=0)\n",
        "#boosting models\n",
        "LR_boost=AdaBoostClassifier(base_estimator=LR,n_estimators=15,random_state=0)\n",
        "DT_boost=AdaBoostClassifier(base_estimator=DT,n_estimators=15,random_state=0)\n",
        "RF_boost=AdaBoostClassifier(base_estimator=RF,n_estimators=15,random_state=0)\n",
        "NB_boost=AdaBoostClassifier(base_estimator=NB,n_estimators=15,random_state=0)"
      ],
      "execution_count": null,
      "outputs": []
    },
    {
      "cell_type": "code",
      "metadata": {
        "id": "n5w-5k42m5K0",
        "colab_type": "code",
        "colab": {}
      },
      "source": [
        "models=[]\n",
        "models.append((\"Logistic\",LR))\n",
        "models.append((\"multinomalNB\",NB))\n",
        "models.append((\"DT\",DT))\n",
        "models.append(('RF',RF))\n",
        "models.append(('BaggedLR',LR_bag))\n",
        "models.append((\"BaggedNB\",NB_bag))\n",
        "models.append((\"BaggedDT\",DT_bag))\n",
        "models.append((\"BoostLR\",LR_boost))\n",
        "models.append((\"BoostDT\",DT_boost))\n",
        "models.append((\"BoostRF\",RF_boost))\n",
        "models.append((\"BoostNB\",NB_boost))"
      ],
      "execution_count": null,
      "outputs": []
    },
    {
      "cell_type": "code",
      "metadata": {
        "id": "G-8msJ8ppLtc",
        "colab_type": "code",
        "colab": {
          "base_uri": "https://localhost:8080/",
          "height": 207
        },
        "outputId": "410a9cfe-a4da-4720-b632-0d95a165d851"
      },
      "source": [
        "results = []\n",
        "names = []\n",
        "\n",
        "for name, model in models:\n",
        "    kfold = model_selection.KFold(shuffle = True, n_splits = 3, random_state = 0)\n",
        "    cv_results = model_selection.cross_val_score(model,X,y,cv = kfold, scoring='roc_auc')\n",
        "    results.append(cv_results)\n",
        "    names.append(name)\n",
        "    print('NAME: {} ----- MEAN: {} ----- VAR: {} '.format(name,np.mean(cv_results),np.var(cv_results,ddof=1)))"
      ],
      "execution_count": null,
      "outputs": [
        {
          "output_type": "stream",
          "text": [
            "NAME: Logistic ----- MEAN: 0.9889864978715971 ----- VAR: 2.672539594001681e-05 \n",
            "NAME: multinomalNB ----- MEAN: 0.9849249829031042 ----- VAR: 1.2281959913519125e-05 \n",
            "NAME: DT ----- MEAN: 0.9024973922847365 ----- VAR: 0.0002335896334235359 \n",
            "NAME: RF ----- MEAN: 0.9786930225561447 ----- VAR: 2.840032083396591e-05 \n",
            "NAME: BaggedLR ----- MEAN: 0.9891038927179286 ----- VAR: 2.5744421727039676e-05 \n",
            "NAME: BaggedNB ----- MEAN: 0.9857783349813216 ----- VAR: 1.3649315080701151e-05 \n",
            "NAME: BaggedDT ----- MEAN: 0.9629014986074163 ----- VAR: 2.920969033174767e-05 \n",
            "NAME: BoostLR ----- MEAN: 0.980038277527572 ----- VAR: 3.0425901690932743e-05 \n",
            "NAME: BoostDT ----- MEAN: 0.9547726564490286 ----- VAR: 5.057569071906944e-05 \n",
            "NAME: BoostRF ----- MEAN: 0.9887988351561608 ----- VAR: 1.4307765855797602e-06 \n",
            "NAME: BoostNB ----- MEAN: 0.982595925825772 ----- VAR: 2.768704537022977e-05 \n"
          ],
          "name": "stdout"
        }
      ]
    },
    {
      "cell_type": "code",
      "metadata": {
        "id": "zu4stKPzUWda",
        "colab_type": "code",
        "colab": {}
      },
      "source": [
        "from sklearn import metrics\n",
        "import seaborn as sns\n",
        "from sklearn.model_selection import train_test_split\n",
        "from sklearn.pipeline import make_pipeline\n",
        "from sklearn.metrics import precision_score, recall_score, f1_score, roc_auc_score, accuracy_score, classification_report\n",
        "from collections import Counter\n",
        "from sklearn.model_selection import KFold, StratifiedKFold\n",
        "from scipy.stats import ttest_1samp,ttest_ind,levene,shapiro,bartlett,wilcoxon,mannwhitneyu,chi2_contingency\n",
        "import seaborn as sns"
      ],
      "execution_count": null,
      "outputs": []
    },
    {
      "cell_type": "code",
      "metadata": {
        "id": "QtPq-uNWViHw",
        "colab_type": "code",
        "colab": {}
      },
      "source": [
        "from sklearn.model_selection import train_test_split\n",
        "x_train, x_test, y_train, y_test = train_test_split(X,y, test_size=0.3, random_state=0)"
      ],
      "execution_count": null,
      "outputs": []
    },
    {
      "cell_type": "code",
      "metadata": {
        "id": "aMTF9yutVmn_",
        "colab_type": "code",
        "colab": {
          "base_uri": "https://localhost:8080/",
          "height": 1000
        },
        "outputId": "91cba59a-016e-422d-f97f-9dc774b4cded"
      },
      "source": [
        "from sklearn.model_selection import train_test_split\n",
        "x_train, x_test, y_train, y_test = train_test_split(X,y, test_size=0.3, random_state=0)\n",
        "\n",
        "for name,model in models:\n",
        "  print(name)\n",
        "  model.fit(x_train,y_train)\n",
        "  y_predict_LR=model.predict(x_test)\n",
        "  accuracy_test =model.score(x_test,y_test)\n",
        "\n",
        "  print(\"Here is our mean accuracy on the test set:\\n {0:.3f}\"\\\n",
        "        .format(accuracy_test))\n",
        "  accuracy_train =model.score(x_train,y_train)\n",
        "\n",
        "  print(\"Here is our mean accuracy on the train set:\\n {0:.3f}\"\\\n",
        "        .format(accuracy_train))\n",
        "  confusion = metrics.confusion_matrix( y_predict_LR, y_test )\n",
        "  sns.heatmap(confusion, annot=True, fmt='d', cbar=False)\n",
        "  plt.xlabel('Predicted Values')\n",
        "  plt.ylabel('Actual Values')\n",
        "  plt.title('Actual vs. Predicted Confusion Matrix')\n",
        "  plt.show()\n",
        "  print()\n",
        "  print('CLASSIFICATION REPORT',classification_report(y_test, y_predict_LR))\n",
        "  print('--------------------------------------------------------')\n",
        "  print()"
      ],
      "execution_count": null,
      "outputs": [
        {
          "output_type": "stream",
          "text": [
            "Logistic\n",
            "Here is our mean accuracy on the test set:\n",
            " 0.981\n",
            "Here is our mean accuracy on the train set:\n",
            " 0.994\n"
          ],
          "name": "stdout"
        },
        {
          "output_type": "display_data",
          "data": {
            "image/png": "[encoded data removed]",
            "text/plain": [
              "<Figure size 432x288 with 1 Axes>"
            ]
          },
          "metadata": {
            "tags": [],
            "needs_background": "light"
          }
        },
        {
          "output_type": "stream",
          "text": [
            "\n",
            "CLASSIFICATION REPORT               precision    recall  f1-score   support\n",
            "\n",
            "           0       0.98      1.00      0.99      1451\n",
            "           1       0.98      0.87      0.93       221\n",
            "\n",
            "    accuracy                           0.98      1672\n",
            "   macro avg       0.98      0.94      0.96      1672\n",
            "weighted avg       0.98      0.98      0.98      1672\n",
            "\n",
            "--------------------------------------------------------\n",
            "\n",
            "multinomalNB\n",
            "Here is our mean accuracy on the test set:\n",
            " 0.986\n",
            "Here is our mean accuracy on the train set:\n",
            " 0.991\n"
          ],
          "name": "stdout"
        },
        {
          "output_type": "display_data",
          "data": {
            "image/png": "[encoded data removed]",
            "text/plain": [
              "<Figure size 432x288 with 1 Axes>"
            ]
          },
          "metadata": {
            "tags": [],
            "needs_background": "light"
          }
        },
        {
          "output_type": "stream",
          "text": [
            "\n",
            "CLASSIFICATION REPORT               precision    recall  f1-score   support\n",
            "\n",
            "           0       0.99      0.99      0.99      1451\n",
            "           1       0.95      0.95      0.95       221\n",
            "\n",
            "    accuracy                           0.99      1672\n",
            "   macro avg       0.97      0.97      0.97      1672\n",
            "weighted avg       0.99      0.99      0.99      1672\n",
            "\n",
            "--------------------------------------------------------\n",
            "\n",
            "DT\n",
            "Here is our mean accuracy on the test set:\n",
            " 0.948\n",
            "Here is our mean accuracy on the train set:\n",
            " 0.948\n"
          ],
          "name": "stdout"
        },
        {
          "output_type": "display_data",
          "data": {
            "image/png": "[encoded data removed]",
            "text/plain": [
              "<Figure size 432x288 with 1 Axes>"
            ]
          },
          "metadata": {
            "tags": [],
            "needs_background": "light"
          }
        },
        {
          "output_type": "stream",
          "text": [
            "\n",
            "CLASSIFICATION REPORT               precision    recall  f1-score   support\n",
            "\n",
            "           0       0.95      1.00      0.97      1451\n",
            "           1       0.98      0.62      0.76       221\n",
            "\n",
            "    accuracy                           0.95      1672\n",
            "   macro avg       0.96      0.81      0.86      1672\n",
            "weighted avg       0.95      0.95      0.94      1672\n",
            "\n",
            "--------------------------------------------------------\n",
            "\n",
            "RF\n",
            "Here is our mean accuracy on the test set:\n",
            " 0.971\n",
            "Here is our mean accuracy on the train set:\n",
            " 0.997\n"
          ],
          "name": "stdout"
        },
        {
          "output_type": "display_data",
          "data": {
            "image/png": "[encoded data removed]",
            "text/plain": [
              "<Figure size 432x288 with 1 Axes>"
            ]
          },
          "metadata": {
            "tags": [],
            "needs_background": "light"
          }
        },
        {
          "output_type": "stream",
          "text": [
            "\n",
            "CLASSIFICATION REPORT               precision    recall  f1-score   support\n",
            "\n",
            "           0       0.97      1.00      0.98      1451\n",
            "           1       0.99      0.79      0.88       221\n",
            "\n",
            "    accuracy                           0.97      1672\n",
            "   macro avg       0.98      0.90      0.93      1672\n",
            "weighted avg       0.97      0.97      0.97      1672\n",
            "\n",
            "--------------------------------------------------------\n",
            "\n",
            "BaggedLR\n",
            "Here is our mean accuracy on the test set:\n",
            " 0.980\n",
            "Here is our mean accuracy on the train set:\n",
            " 0.990\n"
          ],
          "name": "stdout"
        },
        {
          "output_type": "display_data",
          "data": {
            "image/png": "[encoded data removed]",
            "text/plain": [
              "<Figure size 432x288 with 1 Axes>"
            ]
          },
          "metadata": {
            "tags": [],
            "needs_background": "light"
          }
        },
        {
          "output_type": "stream",
          "text": [
            "\n",
            "CLASSIFICATION REPORT               precision    recall  f1-score   support\n",
            "\n",
            "           0       0.98      1.00      0.99      1451\n",
            "           1       0.98      0.86      0.92       221\n",
            "\n",
            "    accuracy                           0.98      1672\n",
            "   macro avg       0.98      0.93      0.95      1672\n",
            "weighted avg       0.98      0.98      0.98      1672\n",
            "\n",
            "--------------------------------------------------------\n",
            "\n",
            "BaggedNB\n",
            "Here is our mean accuracy on the test set:\n",
            " 0.986\n",
            "Here is our mean accuracy on the train set:\n",
            " 0.990\n"
          ],
          "name": "stdout"
        },
        {
          "output_type": "display_data",
          "data": {
            "image/png": "[encoded data removed]",
            "text/plain": [
              "<Figure size 432x288 with 1 Axes>"
            ]
          },
          "metadata": {
            "tags": [],
            "needs_background": "light"
          }
        },
        {
          "output_type": "stream",
          "text": [
            "\n",
            "CLASSIFICATION REPORT               precision    recall  f1-score   support\n",
            "\n",
            "           0       0.99      0.99      0.99      1451\n",
            "           1       0.95      0.95      0.95       221\n",
            "\n",
            "    accuracy                           0.99      1672\n",
            "   macro avg       0.97      0.97      0.97      1672\n",
            "weighted avg       0.99      0.99      0.99      1672\n",
            "\n",
            "--------------------------------------------------------\n",
            "\n",
            "BaggedDT\n",
            "Here is our mean accuracy on the test set:\n",
            " 0.972\n",
            "Here is our mean accuracy on the train set:\n",
            " 0.995\n"
          ],
          "name": "stdout"
        },
        {
          "output_type": "display_data",
          "data": {
            "image/png": "[encoded data removed]",
            "text/plain": [
              "<Figure size 432x288 with 1 Axes>"
            ]
          },
          "metadata": {
            "tags": [],
            "needs_background": "light"
          }
        },
        {
          "output_type": "stream",
          "text": [
            "\n",
            "CLASSIFICATION REPORT               precision    recall  f1-score   support\n",
            "\n",
            "           0       0.97      1.00      0.98      1451\n",
            "           1       0.97      0.82      0.89       221\n",
            "\n",
            "    accuracy                           0.97      1672\n",
            "   macro avg       0.97      0.91      0.94      1672\n",
            "weighted avg       0.97      0.97      0.97      1672\n",
            "\n",
            "--------------------------------------------------------\n",
            "\n",
            "BoostLR\n",
            "Here is our mean accuracy on the test set:\n",
            " 0.905\n",
            "Here is our mean accuracy on the train set:\n",
            " 0.905\n"
          ],
          "name": "stdout"
        },
        {
          "output_type": "display_data",
          "data": {
            "image/png": "[encoded data removed]",
            "text/plain": [
              "<Figure size 432x288 with 1 Axes>"
            ]
          },
          "metadata": {
            "tags": [],
            "needs_background": "light"
          }
        },
        {
          "output_type": "stream",
          "text": [
            "\n",
            "CLASSIFICATION REPORT               precision    recall  f1-score   support\n",
            "\n",
            "           0       0.90      1.00      0.95      1451\n",
            "           1       0.98      0.29      0.44       221\n",
            "\n",
            "    accuracy                           0.90      1672\n",
            "   macro avg       0.94      0.64      0.70      1672\n",
            "weighted avg       0.91      0.90      0.88      1672\n",
            "\n",
            "--------------------------------------------------------\n",
            "\n",
            "BoostDT\n",
            "Here is our mean accuracy on the test set:\n",
            " 0.961\n",
            "Here is our mean accuracy on the train set:\n",
            " 1.000\n"
          ],
          "name": "stdout"
        },
        {
          "output_type": "display_data",
          "data": {
            "image/png": "[encoded data removed]",
            "text/plain": [
              "<Figure size 432x288 with 1 Axes>"
            ]
          },
          "metadata": {
            "tags": [],
            "needs_background": "light"
          }
        },
        {
          "output_type": "stream",
          "text": [
            "\n",
            "CLASSIFICATION REPORT               precision    recall  f1-score   support\n",
            "\n",
            "           0       0.98      0.97      0.98      1451\n",
            "           1       0.83      0.88      0.86       221\n",
            "\n",
            "    accuracy                           0.96      1672\n",
            "   macro avg       0.91      0.93      0.92      1672\n",
            "weighted avg       0.96      0.96      0.96      1672\n",
            "\n",
            "--------------------------------------------------------\n",
            "\n",
            "BoostRF\n",
            "Here is our mean accuracy on the test set:\n",
            " 0.987\n",
            "Here is our mean accuracy on the train set:\n",
            " 1.000\n"
          ],
          "name": "stdout"
        },
        {
          "output_type": "display_data",
          "data": {
            "image/png": "[encoded data removed]",
            "text/plain": [
              "<Figure size 432x288 with 1 Axes>"
            ]
          },
          "metadata": {
            "tags": [],
            "needs_background": "light"
          }
        },
        {
          "output_type": "stream",
          "text": [
            "\n",
            "CLASSIFICATION REPORT               precision    recall  f1-score   support\n",
            "\n",
            "           0       0.99      1.00      0.99      1451\n",
            "           1       0.99      0.92      0.95       221\n",
            "\n",
            "    accuracy                           0.99      1672\n",
            "   macro avg       0.99      0.96      0.97      1672\n",
            "weighted avg       0.99      0.99      0.99      1672\n",
            "\n",
            "--------------------------------------------------------\n",
            "\n",
            "BoostNB\n",
            "Here is our mean accuracy on the test set:\n",
            " 0.941\n",
            "Here is our mean accuracy on the train set:\n",
            " 0.949\n"
          ],
          "name": "stdout"
        },
        {
          "output_type": "display_data",
          "data": {
            "image/png": "[encoded data removed]",
            "text/plain": [
              "<Figure size 432x288 with 1 Axes>"
            ]
          },
          "metadata": {
            "tags": [],
            "needs_background": "light"
          }
        },
        {
          "output_type": "stream",
          "text": [
            "\n",
            "CLASSIFICATION REPORT               precision    recall  f1-score   support\n",
            "\n",
            "           0       0.94      1.00      0.97      1451\n",
            "           1       0.97      0.57      0.72       221\n",
            "\n",
            "    accuracy                           0.94      1672\n",
            "   macro avg       0.95      0.78      0.84      1672\n",
            "weighted avg       0.94      0.94      0.93      1672\n",
            "\n",
            "--------------------------------------------------------\n",
            "\n"
          ],
          "name": "stdout"
        }
      ]
    },
    {
      "cell_type": "code",
      "metadata": {
        "id": "vYXmjA7TWhQF",
        "colab_type": "code",
        "colab": {}
      },
      "source": [
        ""
      ],
      "execution_count": null,
      "outputs": []
    }
  ]
}